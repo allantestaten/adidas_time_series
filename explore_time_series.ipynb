{
 "cells": [
  {
   "cell_type": "code",
   "execution_count": 1,
   "id": "9b8ec678",
   "metadata": {},
   "outputs": [],
   "source": [
    "#all imports for project \n",
    "from tabulate import tabulate\n",
    "import matplotlib.pyplot as plt\n",
    "import numpy as np\n",
    "import pandas as pd\n",
    "import seaborn as sns\n",
    "from scipy import stats\n",
    "from sklearn.model_selection import train_test_split\n",
    "from sklearn.ensemble import RandomForestClassifier\n",
    "from sklearn.tree import DecisionTreeClassifier, plot_tree, export_text\n",
    "from sklearn.linear_model import LogisticRegression\n",
    "from sklearn.linear_model import LinearRegression, LassoLars, TweedieRegressor\n",
    "from sklearn.preprocessing import PolynomialFeatures\n",
    "from sklearn.tree import DecisionTreeRegressor\n",
    "from sklearn import linear_model\n",
    "import plotly.express as px\n",
    "\n",
    "import modeling as m\n",
    "import explore as e\n",
    "import wrangle as w\n",
    "\n",
    "import warnings\n",
    "warnings.filterwarnings(\"ignore\")\n",
    "\n",
    "\n",
    "np.random.seed(100)\n"
   ]
  },
  {
   "cell_type": "code",
   "execution_count": 2,
   "id": "bed9b479",
   "metadata": {},
   "outputs": [],
   "source": [
    "df = w.get_clean_data()"
   ]
  },
  {
   "cell_type": "code",
   "execution_count": 3,
   "id": "5c05d5b2",
   "metadata": {
    "scrolled": true
   },
   "outputs": [
    {
     "name": "stdout",
     "output_type": "stream",
     "text": [
      "<class 'pandas.core.frame.DataFrame'>\n",
      "RangeIndex: 9648 entries, 0 to 9647\n",
      "Data columns (total 12 columns):\n",
      " #   Column            Non-Null Count  Dtype         \n",
      "---  ------            --------------  -----         \n",
      " 0   retailer          9648 non-null   object        \n",
      " 1   invoice_date      9648 non-null   datetime64[ns]\n",
      " 2   region            9648 non-null   object        \n",
      " 3   state             9648 non-null   object        \n",
      " 4   city              9648 non-null   object        \n",
      " 5   product           9648 non-null   object        \n",
      " 6   price_per_unit    9648 non-null   float64       \n",
      " 7   units_sold        9648 non-null   int64         \n",
      " 8   total_sales       9648 non-null   float64       \n",
      " 9   operating_profit  9648 non-null   float64       \n",
      " 10  operating_margin  9648 non-null   float64       \n",
      " 11  sales_method      9648 non-null   object        \n",
      "dtypes: datetime64[ns](1), float64(4), int64(1), object(6)\n",
      "memory usage: 904.6+ KB\n"
     ]
    }
   ],
   "source": [
    "df.info()"
   ]
  },
  {
   "cell_type": "code",
   "execution_count": 4,
   "id": "84364dc9",
   "metadata": {},
   "outputs": [
    {
     "data": {
      "text/html": [
       "<div>\n",
       "<style scoped>\n",
       "    .dataframe tbody tr th:only-of-type {\n",
       "        vertical-align: middle;\n",
       "    }\n",
       "\n",
       "    .dataframe tbody tr th {\n",
       "        vertical-align: top;\n",
       "    }\n",
       "\n",
       "    .dataframe thead th {\n",
       "        text-align: right;\n",
       "    }\n",
       "</style>\n",
       "<table border=\"1\" class=\"dataframe\">\n",
       "  <thead>\n",
       "    <tr style=\"text-align: right;\">\n",
       "      <th></th>\n",
       "      <th>retailer</th>\n",
       "      <th>invoice_date</th>\n",
       "      <th>region</th>\n",
       "      <th>state</th>\n",
       "      <th>city</th>\n",
       "      <th>product</th>\n",
       "      <th>price_per_unit</th>\n",
       "      <th>units_sold</th>\n",
       "      <th>total_sales</th>\n",
       "      <th>operating_profit</th>\n",
       "      <th>operating_margin</th>\n",
       "      <th>sales_method</th>\n",
       "    </tr>\n",
       "  </thead>\n",
       "  <tbody>\n",
       "    <tr>\n",
       "      <th>0</th>\n",
       "      <td>Foot Locker</td>\n",
       "      <td>2020-01-01</td>\n",
       "      <td>Northeast</td>\n",
       "      <td>New York</td>\n",
       "      <td>New York</td>\n",
       "      <td>Men's Street Footwear</td>\n",
       "      <td>50.0</td>\n",
       "      <td>1200</td>\n",
       "      <td>600000.0</td>\n",
       "      <td>300000.0</td>\n",
       "      <td>0.50</td>\n",
       "      <td>In-store</td>\n",
       "    </tr>\n",
       "    <tr>\n",
       "      <th>1</th>\n",
       "      <td>Foot Locker</td>\n",
       "      <td>2020-01-02</td>\n",
       "      <td>Northeast</td>\n",
       "      <td>New York</td>\n",
       "      <td>New York</td>\n",
       "      <td>Men's Athletic Footwear</td>\n",
       "      <td>50.0</td>\n",
       "      <td>1000</td>\n",
       "      <td>500000.0</td>\n",
       "      <td>150000.0</td>\n",
       "      <td>0.30</td>\n",
       "      <td>In-store</td>\n",
       "    </tr>\n",
       "    <tr>\n",
       "      <th>2</th>\n",
       "      <td>Foot Locker</td>\n",
       "      <td>2020-01-03</td>\n",
       "      <td>Northeast</td>\n",
       "      <td>New York</td>\n",
       "      <td>New York</td>\n",
       "      <td>Women's Street Footwear</td>\n",
       "      <td>40.0</td>\n",
       "      <td>1000</td>\n",
       "      <td>400000.0</td>\n",
       "      <td>140000.0</td>\n",
       "      <td>0.35</td>\n",
       "      <td>In-store</td>\n",
       "    </tr>\n",
       "    <tr>\n",
       "      <th>3</th>\n",
       "      <td>Foot Locker</td>\n",
       "      <td>2020-01-04</td>\n",
       "      <td>Northeast</td>\n",
       "      <td>New York</td>\n",
       "      <td>New York</td>\n",
       "      <td>Women's Athletic Footwear</td>\n",
       "      <td>45.0</td>\n",
       "      <td>850</td>\n",
       "      <td>382500.0</td>\n",
       "      <td>133875.0</td>\n",
       "      <td>0.35</td>\n",
       "      <td>In-store</td>\n",
       "    </tr>\n",
       "    <tr>\n",
       "      <th>4</th>\n",
       "      <td>Foot Locker</td>\n",
       "      <td>2020-01-05</td>\n",
       "      <td>Northeast</td>\n",
       "      <td>New York</td>\n",
       "      <td>New York</td>\n",
       "      <td>Men's Apparel</td>\n",
       "      <td>60.0</td>\n",
       "      <td>900</td>\n",
       "      <td>540000.0</td>\n",
       "      <td>162000.0</td>\n",
       "      <td>0.30</td>\n",
       "      <td>In-store</td>\n",
       "    </tr>\n",
       "  </tbody>\n",
       "</table>\n",
       "</div>"
      ],
      "text/plain": [
       "      retailer invoice_date     region     state      city  \\\n",
       "0  Foot Locker   2020-01-01  Northeast  New York  New York   \n",
       "1  Foot Locker   2020-01-02  Northeast  New York  New York   \n",
       "2  Foot Locker   2020-01-03  Northeast  New York  New York   \n",
       "3  Foot Locker   2020-01-04  Northeast  New York  New York   \n",
       "4  Foot Locker   2020-01-05  Northeast  New York  New York   \n",
       "\n",
       "                     product  price_per_unit  units_sold  total_sales  \\\n",
       "0      Men's Street Footwear            50.0        1200     600000.0   \n",
       "1    Men's Athletic Footwear            50.0        1000     500000.0   \n",
       "2    Women's Street Footwear            40.0        1000     400000.0   \n",
       "3  Women's Athletic Footwear            45.0         850     382500.0   \n",
       "4              Men's Apparel            60.0         900     540000.0   \n",
       "\n",
       "   operating_profit  operating_margin sales_method  \n",
       "0          300000.0              0.50     In-store  \n",
       "1          150000.0              0.30     In-store  \n",
       "2          140000.0              0.35     In-store  \n",
       "3          133875.0              0.35     In-store  \n",
       "4          162000.0              0.30     In-store  "
      ]
     },
     "execution_count": 4,
     "metadata": {},
     "output_type": "execute_result"
    }
   ],
   "source": [
    "# convert date column to datetime format \n",
    "df.invoice_date = pd.to_datetime(df.invoice_date,infer_datetime_format=True)\n",
    "df.head()"
   ]
  },
  {
   "cell_type": "code",
   "execution_count": 5,
   "id": "59d76bd4",
   "metadata": {},
   "outputs": [
    {
     "data": {
      "text/plain": [
       "[Text(0.5, 1.0, 'Distribution of Operating Profit')]"
      ]
     },
     "execution_count": 5,
     "metadata": {},
     "output_type": "execute_result"
    },
    {
     "data": {
      "image/png": "[encoded data removed]",
      "text/plain": [
       "<Figure size 432x288 with 1 Axes>"
      ]
     },
     "metadata": {
      "needs_background": "light"
     },
     "output_type": "display_data"
    }
   ],
   "source": [
    "# visualization of operating profit distribution of operating profit\n",
    "sns.histplot(df.operating_profit, bins = 6) .set(title = \"Distribution of Operating Profit\")\n"
   ]
  },
  {
   "cell_type": "code",
   "execution_count": 6,
   "id": "e1d85dd2",
   "metadata": {},
   "outputs": [
    {
     "data": {
      "text/plain": [
       "[Text(0.5, 1.0, 'Distribution of units_sold')]"
      ]
     },
     "execution_count": 6,
     "metadata": {},
     "output_type": "execute_result"
    },
    {
     "data": {
      "image/png": "[encoded data removed]",
      "text/plain": [
       "<Figure size 432x288 with 1 Axes>"
      ]
     },
     "metadata": {
      "needs_background": "light"
     },
     "output_type": "display_data"
    }
   ],
   "source": [
    "# visualization of operating profit distribution of operating profit\n",
    "sns.histplot(df.units_sold, bins = 6) .set(title = \"Distribution of units_sold\")\n"
   ]
  },
  {
   "cell_type": "code",
   "execution_count": 7,
   "id": "ae0f2a4f",
   "metadata": {},
   "outputs": [
    {
     "data": {
      "text/plain": [
       "[Text(0.5, 1.0, 'Distribution of Total Sales')]"
      ]
     },
     "execution_count": 7,
     "metadata": {},
     "output_type": "execute_result"
    },
    {
     "data": {
      "image/png": "[encoded data removed]",
      "text/plain": [
       "<Figure size 432x288 with 1 Axes>"
      ]
     },
     "metadata": {
      "needs_background": "light"
     },
     "output_type": "display_data"
    }
   ],
   "source": [
    "# visualization of operating profit distribution of operating profit\n",
    "sns.histplot(df.total_sales, bins = 6) .set(title = \"Distribution of Total Sales\")\n"
   ]
  },
  {
   "cell_type": "markdown",
   "id": "4d13ab7c",
   "metadata": {},
   "source": [
    "## Takeaway \n",
    "- most retailer profits are less than $100,000"
   ]
  },
  {
   "cell_type": "code",
   "execution_count": 8,
   "id": "dadc73d5",
   "metadata": {},
   "outputs": [
    {
     "name": "stdout",
     "output_type": "stream",
     "text": [
      "<class 'pandas.core.frame.DataFrame'>\n",
      "RangeIndex: 9648 entries, 0 to 9647\n",
      "Data columns (total 12 columns):\n",
      " #   Column            Non-Null Count  Dtype         \n",
      "---  ------            --------------  -----         \n",
      " 0   retailer          9648 non-null   object        \n",
      " 1   invoice_date      9648 non-null   datetime64[ns]\n",
      " 2   region            9648 non-null   object        \n",
      " 3   state             9648 non-null   object        \n",
      " 4   city              9648 non-null   object        \n",
      " 5   product           9648 non-null   object        \n",
      " 6   price_per_unit    9648 non-null   float64       \n",
      " 7   units_sold        9648 non-null   int64         \n",
      " 8   total_sales       9648 non-null   float64       \n",
      " 9   operating_profit  9648 non-null   float64       \n",
      " 10  operating_margin  9648 non-null   float64       \n",
      " 11  sales_method      9648 non-null   object        \n",
      "dtypes: datetime64[ns](1), float64(4), int64(1), object(6)\n",
      "memory usage: 904.6+ KB\n"
     ]
    }
   ],
   "source": [
    "# checking to see that invoice is date tieme variable now \n",
    "df.info()"
   ]
  },
  {
   "cell_type": "code",
   "execution_count": 9,
   "id": "573ebe2f",
   "metadata": {},
   "outputs": [
    {
     "data": {
      "text/html": [
       "<div>\n",
       "<style scoped>\n",
       "    .dataframe tbody tr th:only-of-type {\n",
       "        vertical-align: middle;\n",
       "    }\n",
       "\n",
       "    .dataframe tbody tr th {\n",
       "        vertical-align: top;\n",
       "    }\n",
       "\n",
       "    .dataframe thead th {\n",
       "        text-align: right;\n",
       "    }\n",
       "</style>\n",
       "<table border=\"1\" class=\"dataframe\">\n",
       "  <thead>\n",
       "    <tr style=\"text-align: right;\">\n",
       "      <th></th>\n",
       "      <th>retailer</th>\n",
       "      <th>region</th>\n",
       "      <th>state</th>\n",
       "      <th>city</th>\n",
       "      <th>product</th>\n",
       "      <th>price_per_unit</th>\n",
       "      <th>units_sold</th>\n",
       "      <th>total_sales</th>\n",
       "      <th>operating_profit</th>\n",
       "      <th>operating_margin</th>\n",
       "      <th>sales_method</th>\n",
       "    </tr>\n",
       "    <tr>\n",
       "      <th>invoice_date</th>\n",
       "      <th></th>\n",
       "      <th></th>\n",
       "      <th></th>\n",
       "      <th></th>\n",
       "      <th></th>\n",
       "      <th></th>\n",
       "      <th></th>\n",
       "      <th></th>\n",
       "      <th></th>\n",
       "      <th></th>\n",
       "      <th></th>\n",
       "    </tr>\n",
       "  </thead>\n",
       "  <tbody>\n",
       "    <tr>\n",
       "      <th>2020-01-01</th>\n",
       "      <td>Foot Locker</td>\n",
       "      <td>Northeast</td>\n",
       "      <td>New York</td>\n",
       "      <td>New York</td>\n",
       "      <td>Men's Street Footwear</td>\n",
       "      <td>50.0</td>\n",
       "      <td>1200</td>\n",
       "      <td>600000.0</td>\n",
       "      <td>300000.00</td>\n",
       "      <td>0.50</td>\n",
       "      <td>In-store</td>\n",
       "    </tr>\n",
       "    <tr>\n",
       "      <th>2020-01-02</th>\n",
       "      <td>Foot Locker</td>\n",
       "      <td>Northeast</td>\n",
       "      <td>New York</td>\n",
       "      <td>New York</td>\n",
       "      <td>Men's Athletic Footwear</td>\n",
       "      <td>50.0</td>\n",
       "      <td>1000</td>\n",
       "      <td>500000.0</td>\n",
       "      <td>150000.00</td>\n",
       "      <td>0.30</td>\n",
       "      <td>In-store</td>\n",
       "    </tr>\n",
       "    <tr>\n",
       "      <th>2020-01-03</th>\n",
       "      <td>Foot Locker</td>\n",
       "      <td>Northeast</td>\n",
       "      <td>New York</td>\n",
       "      <td>New York</td>\n",
       "      <td>Women's Street Footwear</td>\n",
       "      <td>40.0</td>\n",
       "      <td>1000</td>\n",
       "      <td>400000.0</td>\n",
       "      <td>140000.00</td>\n",
       "      <td>0.35</td>\n",
       "      <td>In-store</td>\n",
       "    </tr>\n",
       "    <tr>\n",
       "      <th>2020-01-04</th>\n",
       "      <td>Foot Locker</td>\n",
       "      <td>Northeast</td>\n",
       "      <td>New York</td>\n",
       "      <td>New York</td>\n",
       "      <td>Women's Athletic Footwear</td>\n",
       "      <td>45.0</td>\n",
       "      <td>850</td>\n",
       "      <td>382500.0</td>\n",
       "      <td>133875.00</td>\n",
       "      <td>0.35</td>\n",
       "      <td>In-store</td>\n",
       "    </tr>\n",
       "    <tr>\n",
       "      <th>2020-01-05</th>\n",
       "      <td>Foot Locker</td>\n",
       "      <td>Northeast</td>\n",
       "      <td>New York</td>\n",
       "      <td>New York</td>\n",
       "      <td>Men's Apparel</td>\n",
       "      <td>60.0</td>\n",
       "      <td>900</td>\n",
       "      <td>540000.0</td>\n",
       "      <td>162000.00</td>\n",
       "      <td>0.30</td>\n",
       "      <td>In-store</td>\n",
       "    </tr>\n",
       "    <tr>\n",
       "      <th>...</th>\n",
       "      <td>...</td>\n",
       "      <td>...</td>\n",
       "      <td>...</td>\n",
       "      <td>...</td>\n",
       "      <td>...</td>\n",
       "      <td>...</td>\n",
       "      <td>...</td>\n",
       "      <td>...</td>\n",
       "      <td>...</td>\n",
       "      <td>...</td>\n",
       "      <td>...</td>\n",
       "    </tr>\n",
       "    <tr>\n",
       "      <th>2021-01-24</th>\n",
       "      <td>Foot Locker</td>\n",
       "      <td>Northeast</td>\n",
       "      <td>New Hampshire</td>\n",
       "      <td>Manchester</td>\n",
       "      <td>Men's Apparel</td>\n",
       "      <td>50.0</td>\n",
       "      <td>64</td>\n",
       "      <td>3200.0</td>\n",
       "      <td>896.00</td>\n",
       "      <td>0.28</td>\n",
       "      <td>Outlet</td>\n",
       "    </tr>\n",
       "    <tr>\n",
       "      <th>2021-01-24</th>\n",
       "      <td>Foot Locker</td>\n",
       "      <td>Northeast</td>\n",
       "      <td>New Hampshire</td>\n",
       "      <td>Manchester</td>\n",
       "      <td>Women's Apparel</td>\n",
       "      <td>41.0</td>\n",
       "      <td>105</td>\n",
       "      <td>4305.0</td>\n",
       "      <td>1377.60</td>\n",
       "      <td>0.32</td>\n",
       "      <td>Outlet</td>\n",
       "    </tr>\n",
       "    <tr>\n",
       "      <th>2021-02-22</th>\n",
       "      <td>Foot Locker</td>\n",
       "      <td>Northeast</td>\n",
       "      <td>New Hampshire</td>\n",
       "      <td>Manchester</td>\n",
       "      <td>Men's Street Footwear</td>\n",
       "      <td>41.0</td>\n",
       "      <td>184</td>\n",
       "      <td>7544.0</td>\n",
       "      <td>2791.28</td>\n",
       "      <td>0.37</td>\n",
       "      <td>Outlet</td>\n",
       "    </tr>\n",
       "    <tr>\n",
       "      <th>2021-02-22</th>\n",
       "      <td>Foot Locker</td>\n",
       "      <td>Northeast</td>\n",
       "      <td>New Hampshire</td>\n",
       "      <td>Manchester</td>\n",
       "      <td>Men's Athletic Footwear</td>\n",
       "      <td>42.0</td>\n",
       "      <td>70</td>\n",
       "      <td>2940.0</td>\n",
       "      <td>1234.80</td>\n",
       "      <td>0.42</td>\n",
       "      <td>Outlet</td>\n",
       "    </tr>\n",
       "    <tr>\n",
       "      <th>2021-02-22</th>\n",
       "      <td>Foot Locker</td>\n",
       "      <td>Northeast</td>\n",
       "      <td>New Hampshire</td>\n",
       "      <td>Manchester</td>\n",
       "      <td>Women's Street Footwear</td>\n",
       "      <td>29.0</td>\n",
       "      <td>83</td>\n",
       "      <td>2407.0</td>\n",
       "      <td>649.89</td>\n",
       "      <td>0.27</td>\n",
       "      <td>Outlet</td>\n",
       "    </tr>\n",
       "  </tbody>\n",
       "</table>\n",
       "<p>9648 rows × 11 columns</p>\n",
       "</div>"
      ],
      "text/plain": [
       "                 retailer     region          state        city  \\\n",
       "invoice_date                                                      \n",
       "2020-01-01    Foot Locker  Northeast       New York    New York   \n",
       "2020-01-02    Foot Locker  Northeast       New York    New York   \n",
       "2020-01-03    Foot Locker  Northeast       New York    New York   \n",
       "2020-01-04    Foot Locker  Northeast       New York    New York   \n",
       "2020-01-05    Foot Locker  Northeast       New York    New York   \n",
       "...                   ...        ...            ...         ...   \n",
       "2021-01-24    Foot Locker  Northeast  New Hampshire  Manchester   \n",
       "2021-01-24    Foot Locker  Northeast  New Hampshire  Manchester   \n",
       "2021-02-22    Foot Locker  Northeast  New Hampshire  Manchester   \n",
       "2021-02-22    Foot Locker  Northeast  New Hampshire  Manchester   \n",
       "2021-02-22    Foot Locker  Northeast  New Hampshire  Manchester   \n",
       "\n",
       "                                product  price_per_unit  units_sold  \\\n",
       "invoice_date                                                          \n",
       "2020-01-01        Men's Street Footwear            50.0        1200   \n",
       "2020-01-02      Men's Athletic Footwear            50.0        1000   \n",
       "2020-01-03      Women's Street Footwear            40.0        1000   \n",
       "2020-01-04    Women's Athletic Footwear            45.0         850   \n",
       "2020-01-05                Men's Apparel            60.0         900   \n",
       "...                                 ...             ...         ...   \n",
       "2021-01-24                Men's Apparel            50.0          64   \n",
       "2021-01-24              Women's Apparel            41.0         105   \n",
       "2021-02-22        Men's Street Footwear            41.0         184   \n",
       "2021-02-22      Men's Athletic Footwear            42.0          70   \n",
       "2021-02-22      Women's Street Footwear            29.0          83   \n",
       "\n",
       "              total_sales  operating_profit  operating_margin sales_method  \n",
       "invoice_date                                                                \n",
       "2020-01-01       600000.0         300000.00              0.50     In-store  \n",
       "2020-01-02       500000.0         150000.00              0.30     In-store  \n",
       "2020-01-03       400000.0         140000.00              0.35     In-store  \n",
       "2020-01-04       382500.0         133875.00              0.35     In-store  \n",
       "2020-01-05       540000.0         162000.00              0.30     In-store  \n",
       "...                   ...               ...               ...          ...  \n",
       "2021-01-24         3200.0            896.00              0.28       Outlet  \n",
       "2021-01-24         4305.0           1377.60              0.32       Outlet  \n",
       "2021-02-22         7544.0           2791.28              0.37       Outlet  \n",
       "2021-02-22         2940.0           1234.80              0.42       Outlet  \n",
       "2021-02-22         2407.0            649.89              0.27       Outlet  \n",
       "\n",
       "[9648 rows x 11 columns]"
      ]
     },
     "execution_count": 9,
     "metadata": {},
     "output_type": "execute_result"
    }
   ],
   "source": [
    "# set index to date time variable \n",
    "df.set_index('invoice_date', inplace=True)\n",
    "df"
   ]
  },
  {
   "cell_type": "code",
   "execution_count": 10,
   "id": "b0f8895e",
   "metadata": {},
   "outputs": [
    {
     "data": {
      "text/html": [
       "<div>\n",
       "<style scoped>\n",
       "    .dataframe tbody tr th:only-of-type {\n",
       "        vertical-align: middle;\n",
       "    }\n",
       "\n",
       "    .dataframe tbody tr th {\n",
       "        vertical-align: top;\n",
       "    }\n",
       "\n",
       "    .dataframe thead th {\n",
       "        text-align: right;\n",
       "    }\n",
       "</style>\n",
       "<table border=\"1\" class=\"dataframe\">\n",
       "  <thead>\n",
       "    <tr style=\"text-align: right;\">\n",
       "      <th></th>\n",
       "      <th>retailer</th>\n",
       "      <th>region</th>\n",
       "      <th>state</th>\n",
       "      <th>city</th>\n",
       "      <th>product</th>\n",
       "      <th>price_per_unit</th>\n",
       "      <th>units_sold</th>\n",
       "      <th>total_sales</th>\n",
       "      <th>operating_profit</th>\n",
       "      <th>operating_margin</th>\n",
       "      <th>sales_method</th>\n",
       "      <th>month</th>\n",
       "      <th>day_of_week</th>\n",
       "      <th>year</th>\n",
       "    </tr>\n",
       "    <tr>\n",
       "      <th>invoice_date</th>\n",
       "      <th></th>\n",
       "      <th></th>\n",
       "      <th></th>\n",
       "      <th></th>\n",
       "      <th></th>\n",
       "      <th></th>\n",
       "      <th></th>\n",
       "      <th></th>\n",
       "      <th></th>\n",
       "      <th></th>\n",
       "      <th></th>\n",
       "      <th></th>\n",
       "      <th></th>\n",
       "      <th></th>\n",
       "    </tr>\n",
       "  </thead>\n",
       "  <tbody>\n",
       "    <tr>\n",
       "      <th>2020-01-01</th>\n",
       "      <td>Foot Locker</td>\n",
       "      <td>Northeast</td>\n",
       "      <td>New York</td>\n",
       "      <td>New York</td>\n",
       "      <td>Men's Street Footwear</td>\n",
       "      <td>50.0</td>\n",
       "      <td>1200</td>\n",
       "      <td>600000.0</td>\n",
       "      <td>300000.00</td>\n",
       "      <td>0.50</td>\n",
       "      <td>In-store</td>\n",
       "      <td>January</td>\n",
       "      <td>Wednesday</td>\n",
       "      <td>2020</td>\n",
       "    </tr>\n",
       "    <tr>\n",
       "      <th>2020-01-02</th>\n",
       "      <td>Foot Locker</td>\n",
       "      <td>Northeast</td>\n",
       "      <td>New York</td>\n",
       "      <td>New York</td>\n",
       "      <td>Men's Athletic Footwear</td>\n",
       "      <td>50.0</td>\n",
       "      <td>1000</td>\n",
       "      <td>500000.0</td>\n",
       "      <td>150000.00</td>\n",
       "      <td>0.30</td>\n",
       "      <td>In-store</td>\n",
       "      <td>January</td>\n",
       "      <td>Thursday</td>\n",
       "      <td>2020</td>\n",
       "    </tr>\n",
       "    <tr>\n",
       "      <th>2020-01-03</th>\n",
       "      <td>Foot Locker</td>\n",
       "      <td>Northeast</td>\n",
       "      <td>New York</td>\n",
       "      <td>New York</td>\n",
       "      <td>Women's Street Footwear</td>\n",
       "      <td>40.0</td>\n",
       "      <td>1000</td>\n",
       "      <td>400000.0</td>\n",
       "      <td>140000.00</td>\n",
       "      <td>0.35</td>\n",
       "      <td>In-store</td>\n",
       "      <td>January</td>\n",
       "      <td>Friday</td>\n",
       "      <td>2020</td>\n",
       "    </tr>\n",
       "    <tr>\n",
       "      <th>2020-01-04</th>\n",
       "      <td>Foot Locker</td>\n",
       "      <td>Northeast</td>\n",
       "      <td>New York</td>\n",
       "      <td>New York</td>\n",
       "      <td>Women's Athletic Footwear</td>\n",
       "      <td>45.0</td>\n",
       "      <td>850</td>\n",
       "      <td>382500.0</td>\n",
       "      <td>133875.00</td>\n",
       "      <td>0.35</td>\n",
       "      <td>In-store</td>\n",
       "      <td>January</td>\n",
       "      <td>Saturday</td>\n",
       "      <td>2020</td>\n",
       "    </tr>\n",
       "    <tr>\n",
       "      <th>2020-01-05</th>\n",
       "      <td>Foot Locker</td>\n",
       "      <td>Northeast</td>\n",
       "      <td>New York</td>\n",
       "      <td>New York</td>\n",
       "      <td>Men's Apparel</td>\n",
       "      <td>60.0</td>\n",
       "      <td>900</td>\n",
       "      <td>540000.0</td>\n",
       "      <td>162000.00</td>\n",
       "      <td>0.30</td>\n",
       "      <td>In-store</td>\n",
       "      <td>January</td>\n",
       "      <td>Sunday</td>\n",
       "      <td>2020</td>\n",
       "    </tr>\n",
       "    <tr>\n",
       "      <th>...</th>\n",
       "      <td>...</td>\n",
       "      <td>...</td>\n",
       "      <td>...</td>\n",
       "      <td>...</td>\n",
       "      <td>...</td>\n",
       "      <td>...</td>\n",
       "      <td>...</td>\n",
       "      <td>...</td>\n",
       "      <td>...</td>\n",
       "      <td>...</td>\n",
       "      <td>...</td>\n",
       "      <td>...</td>\n",
       "      <td>...</td>\n",
       "      <td>...</td>\n",
       "    </tr>\n",
       "    <tr>\n",
       "      <th>2021-01-24</th>\n",
       "      <td>Foot Locker</td>\n",
       "      <td>Northeast</td>\n",
       "      <td>New Hampshire</td>\n",
       "      <td>Manchester</td>\n",
       "      <td>Men's Apparel</td>\n",
       "      <td>50.0</td>\n",
       "      <td>64</td>\n",
       "      <td>3200.0</td>\n",
       "      <td>896.00</td>\n",
       "      <td>0.28</td>\n",
       "      <td>Outlet</td>\n",
       "      <td>January</td>\n",
       "      <td>Sunday</td>\n",
       "      <td>2021</td>\n",
       "    </tr>\n",
       "    <tr>\n",
       "      <th>2021-01-24</th>\n",
       "      <td>Foot Locker</td>\n",
       "      <td>Northeast</td>\n",
       "      <td>New Hampshire</td>\n",
       "      <td>Manchester</td>\n",
       "      <td>Women's Apparel</td>\n",
       "      <td>41.0</td>\n",
       "      <td>105</td>\n",
       "      <td>4305.0</td>\n",
       "      <td>1377.60</td>\n",
       "      <td>0.32</td>\n",
       "      <td>Outlet</td>\n",
       "      <td>January</td>\n",
       "      <td>Sunday</td>\n",
       "      <td>2021</td>\n",
       "    </tr>\n",
       "    <tr>\n",
       "      <th>2021-02-22</th>\n",
       "      <td>Foot Locker</td>\n",
       "      <td>Northeast</td>\n",
       "      <td>New Hampshire</td>\n",
       "      <td>Manchester</td>\n",
       "      <td>Men's Street Footwear</td>\n",
       "      <td>41.0</td>\n",
       "      <td>184</td>\n",
       "      <td>7544.0</td>\n",
       "      <td>2791.28</td>\n",
       "      <td>0.37</td>\n",
       "      <td>Outlet</td>\n",
       "      <td>February</td>\n",
       "      <td>Monday</td>\n",
       "      <td>2021</td>\n",
       "    </tr>\n",
       "    <tr>\n",
       "      <th>2021-02-22</th>\n",
       "      <td>Foot Locker</td>\n",
       "      <td>Northeast</td>\n",
       "      <td>New Hampshire</td>\n",
       "      <td>Manchester</td>\n",
       "      <td>Men's Athletic Footwear</td>\n",
       "      <td>42.0</td>\n",
       "      <td>70</td>\n",
       "      <td>2940.0</td>\n",
       "      <td>1234.80</td>\n",
       "      <td>0.42</td>\n",
       "      <td>Outlet</td>\n",
       "      <td>February</td>\n",
       "      <td>Monday</td>\n",
       "      <td>2021</td>\n",
       "    </tr>\n",
       "    <tr>\n",
       "      <th>2021-02-22</th>\n",
       "      <td>Foot Locker</td>\n",
       "      <td>Northeast</td>\n",
       "      <td>New Hampshire</td>\n",
       "      <td>Manchester</td>\n",
       "      <td>Women's Street Footwear</td>\n",
       "      <td>29.0</td>\n",
       "      <td>83</td>\n",
       "      <td>2407.0</td>\n",
       "      <td>649.89</td>\n",
       "      <td>0.27</td>\n",
       "      <td>Outlet</td>\n",
       "      <td>February</td>\n",
       "      <td>Monday</td>\n",
       "      <td>2021</td>\n",
       "    </tr>\n",
       "  </tbody>\n",
       "</table>\n",
       "<p>9648 rows × 14 columns</p>\n",
       "</div>"
      ],
      "text/plain": [
       "                 retailer     region          state        city  \\\n",
       "invoice_date                                                      \n",
       "2020-01-01    Foot Locker  Northeast       New York    New York   \n",
       "2020-01-02    Foot Locker  Northeast       New York    New York   \n",
       "2020-01-03    Foot Locker  Northeast       New York    New York   \n",
       "2020-01-04    Foot Locker  Northeast       New York    New York   \n",
       "2020-01-05    Foot Locker  Northeast       New York    New York   \n",
       "...                   ...        ...            ...         ...   \n",
       "2021-01-24    Foot Locker  Northeast  New Hampshire  Manchester   \n",
       "2021-01-24    Foot Locker  Northeast  New Hampshire  Manchester   \n",
       "2021-02-22    Foot Locker  Northeast  New Hampshire  Manchester   \n",
       "2021-02-22    Foot Locker  Northeast  New Hampshire  Manchester   \n",
       "2021-02-22    Foot Locker  Northeast  New Hampshire  Manchester   \n",
       "\n",
       "                                product  price_per_unit  units_sold  \\\n",
       "invoice_date                                                          \n",
       "2020-01-01        Men's Street Footwear            50.0        1200   \n",
       "2020-01-02      Men's Athletic Footwear            50.0        1000   \n",
       "2020-01-03      Women's Street Footwear            40.0        1000   \n",
       "2020-01-04    Women's Athletic Footwear            45.0         850   \n",
       "2020-01-05                Men's Apparel            60.0         900   \n",
       "...                                 ...             ...         ...   \n",
       "2021-01-24                Men's Apparel            50.0          64   \n",
       "2021-01-24              Women's Apparel            41.0         105   \n",
       "2021-02-22        Men's Street Footwear            41.0         184   \n",
       "2021-02-22      Men's Athletic Footwear            42.0          70   \n",
       "2021-02-22      Women's Street Footwear            29.0          83   \n",
       "\n",
       "              total_sales  operating_profit  operating_margin sales_method  \\\n",
       "invoice_date                                                                 \n",
       "2020-01-01       600000.0         300000.00              0.50     In-store   \n",
       "2020-01-02       500000.0         150000.00              0.30     In-store   \n",
       "2020-01-03       400000.0         140000.00              0.35     In-store   \n",
       "2020-01-04       382500.0         133875.00              0.35     In-store   \n",
       "2020-01-05       540000.0         162000.00              0.30     In-store   \n",
       "...                   ...               ...               ...          ...   \n",
       "2021-01-24         3200.0            896.00              0.28       Outlet   \n",
       "2021-01-24         4305.0           1377.60              0.32       Outlet   \n",
       "2021-02-22         7544.0           2791.28              0.37       Outlet   \n",
       "2021-02-22         2940.0           1234.80              0.42       Outlet   \n",
       "2021-02-22         2407.0            649.89              0.27       Outlet   \n",
       "\n",
       "                 month day_of_week  year  \n",
       "invoice_date                              \n",
       "2020-01-01     January   Wednesday  2020  \n",
       "2020-01-02     January    Thursday  2020  \n",
       "2020-01-03     January      Friday  2020  \n",
       "2020-01-04     January    Saturday  2020  \n",
       "2020-01-05     January      Sunday  2020  \n",
       "...                ...         ...   ...  \n",
       "2021-01-24     January      Sunday  2021  \n",
       "2021-01-24     January      Sunday  2021  \n",
       "2021-02-22    February      Monday  2021  \n",
       "2021-02-22    February      Monday  2021  \n",
       "2021-02-22    February      Monday  2021  \n",
       "\n",
       "[9648 rows x 14 columns]"
      ]
     },
     "execution_count": 10,
     "metadata": {},
     "output_type": "execute_result"
    }
   ],
   "source": [
    "#add month and day of week column to dataframe \n",
    "df['month']=df.index.strftime('%B')\n",
    "df['day_of_week']= df.index.strftime('%A')\n",
    "df['year']= df.index.strftime('%Y')\n",
    "df"
   ]
  },
  {
   "cell_type": "code",
   "execution_count": 11,
   "id": "2f6cf179",
   "metadata": {},
   "outputs": [
    {
     "data": {
      "text/plain": [
       "array(['2020', '2021'], dtype=object)"
      ]
     },
     "execution_count": 11,
     "metadata": {},
     "output_type": "execute_result"
    }
   ],
   "source": [
    "# what years are contained in this data \n",
    "df.year.unique()"
   ]
  },
  {
   "cell_type": "code",
   "execution_count": 12,
   "id": "926506d0",
   "metadata": {},
   "outputs": [
    {
     "data": {
      "text/plain": [
       "array(['January', 'February', 'March', 'April', 'May', 'July', 'August',\n",
       "       'September', 'October', 'November', 'December', 'June'],\n",
       "      dtype=object)"
      ]
     },
     "execution_count": 12,
     "metadata": {},
     "output_type": "execute_result"
    }
   ],
   "source": [
    "# what months are included in this data \n",
    "df.month.unique()"
   ]
  },
  {
   "cell_type": "code",
   "execution_count": 13,
   "id": "e6b3f942",
   "metadata": {},
   "outputs": [
    {
     "data": {
      "text/plain": [
       "(Timestamp('2020-01-01 00:00:00'), Timestamp('2021-12-31 00:00:00'))"
      ]
     },
     "execution_count": 13,
     "metadata": {},
     "output_type": "execute_result"
    }
   ],
   "source": [
    "# look at max and min date \n",
    "\n",
    "df.index.min(), df.index.max()"
   ]
  },
  {
   "cell_type": "markdown",
   "id": "46fa906e",
   "metadata": {},
   "source": [
    "### takeaways \n",
    "- data includes all months in both years "
   ]
  },
  {
   "cell_type": "code",
   "execution_count": 14,
   "id": "c1344b97",
   "metadata": {},
   "outputs": [
    {
     "data": {
      "text/plain": [
       "<AxesSubplot:xlabel='invoice_date'>"
      ]
     },
     "execution_count": 14,
     "metadata": {},
     "output_type": "execute_result"
    },
    {
     "data": {
      "image/png": "[encoded data removed]",
      "text/plain": [
       "<Figure size 432x288 with 1 Axes>"
      ]
     },
     "metadata": {
      "needs_background": "light"
     },
     "output_type": "display_data"
    }
   ],
   "source": [
    "# visualizing target variable \n",
    "df.operating_profit.plot()"
   ]
  },
  {
   "cell_type": "code",
   "execution_count": 15,
   "id": "43576936",
   "metadata": {},
   "outputs": [
    {
     "data": {
      "text/plain": [
       "invoice_date\n",
       "2020-01-31     998.20\n",
       "2020-02-29    1587.60\n",
       "2020-03-31     848.64\n",
       "2020-04-30    1432.60\n",
       "2020-05-31    1451.97\n",
       "2020-06-30    1185.60\n",
       "2020-07-31    1478.40\n",
       "2020-08-31    1736.00\n",
       "2020-09-30    2382.80\n",
       "2020-10-31     253.80\n",
       "2020-11-30     112.00\n",
       "2020-12-31     309.12\n",
       "2021-01-31     255.75\n",
       "2021-02-28     144.00\n",
       "2021-03-31      75.20\n",
       "2021-04-30     135.30\n",
       "2021-05-31     203.00\n",
       "2021-06-30       0.00\n",
       "2021-07-31     107.59\n",
       "2021-08-31     503.44\n",
       "2021-09-30     308.70\n",
       "2021-10-31     166.40\n",
       "2021-11-30     112.64\n",
       "2021-12-31     425.70\n",
       "Freq: M, Name: operating_profit, dtype: float64"
      ]
     },
     "execution_count": 15,
     "metadata": {},
     "output_type": "execute_result"
    }
   ],
   "source": [
    "# visualize the minimum operating profit \n",
    "df.resample('M').operating_profit.min()"
   ]
  },
  {
   "cell_type": "code",
   "execution_count": 16,
   "id": "3f4df036",
   "metadata": {},
   "outputs": [
    {
     "data": {
      "text/plain": [
       "<AxesSubplot:xlabel='invoice_date'>"
      ]
     },
     "execution_count": 16,
     "metadata": {},
     "output_type": "execute_result"
    },
    {
     "data": {
      "image/png": "[encoded data removed]",
      "text/plain": [
       "<Figure size 432x288 with 1 Axes>"
      ]
     },
     "metadata": {
      "needs_background": "light"
     },
     "output_type": "display_data"
    }
   ],
   "source": [
    "# visualize the minimum operating profit \n",
    "df.resample('M').operating_profit.min().plot()"
   ]
  },
  {
   "cell_type": "code",
   "execution_count": 17,
   "id": "0be5d3e4",
   "metadata": {},
   "outputs": [
    {
     "data": {
      "text/plain": [
       "invoice_date\n",
       "2020-01-31    312500.0\n",
       "2020-02-29    366000.0\n",
       "2020-03-31    382500.0\n",
       "2020-04-30    373750.0\n",
       "2020-05-31    390000.0\n",
       "2020-06-30    168750.0\n",
       "2020-07-31    198000.0\n",
       "2020-08-31    250000.0\n",
       "2020-09-30    341250.0\n",
       "2020-10-31    297500.0\n",
       "2020-11-30    158125.0\n",
       "2020-12-31    216000.0\n",
       "2021-01-31    281250.0\n",
       "2021-02-28    204750.0\n",
       "2021-03-31    176175.0\n",
       "2021-04-30    272250.0\n",
       "2021-05-31    292500.0\n",
       "2021-06-30    371250.0\n",
       "2021-07-31    341250.0\n",
       "2021-08-31    329062.5\n",
       "2021-09-30    312000.0\n",
       "2021-10-31    341250.0\n",
       "2021-11-30    309375.0\n",
       "2021-12-31    338625.0\n",
       "Freq: M, Name: operating_profit, dtype: float64"
      ]
     },
     "execution_count": 17,
     "metadata": {},
     "output_type": "execute_result"
    }
   ],
   "source": [
    "# visualize the max operating profit \n",
    "df.resample('M').operating_profit.max()"
   ]
  },
  {
   "cell_type": "code",
   "execution_count": 18,
   "id": "31b611aa",
   "metadata": {
    "scrolled": true
   },
   "outputs": [
    {
     "data": {
      "text/plain": [
       "<AxesSubplot:xlabel='invoice_date'>"
      ]
     },
     "execution_count": 18,
     "metadata": {},
     "output_type": "execute_result"
    },
    {
     "data": {
      "image/png": "[encoded data removed]",
      "text/plain": [
       "<Figure size 432x288 with 1 Axes>"
      ]
     },
     "metadata": {
      "needs_background": "light"
     },
     "output_type": "display_data"
    }
   ],
   "source": [
    "# visualize the max operating profit \n",
    "df.resample('M').operating_profit.max().plot()"
   ]
  },
  {
   "cell_type": "code",
   "execution_count": 19,
   "id": "8bb19bfe",
   "metadata": {},
   "outputs": [
    {
     "data": {
      "text/plain": [
       "invoice_date\n",
       "2020-01-31    38866.702733\n",
       "2020-02-29    45678.547719\n",
       "2020-03-31    44748.139389\n",
       "2020-04-30    71548.410308\n",
       "2020-05-31    61798.336316\n",
       "2020-06-30    38212.123500\n",
       "2020-07-31    47285.241442\n",
       "2020-08-31    52798.018273\n",
       "2020-09-30    74163.567083\n",
       "2020-10-31    48133.362907\n",
       "2020-11-30    26509.297524\n",
       "2020-12-31    29480.393804\n",
       "2021-01-31    27161.644304\n",
       "2021-02-28    24449.217915\n",
       "2021-03-31    21725.457139\n",
       "2021-04-30    25679.246090\n",
       "2021-05-31    33207.466731\n",
       "2021-06-30    36505.214514\n",
       "2021-07-31    43488.408179\n",
       "2021-08-31    37972.711148\n",
       "2021-09-30    32815.775124\n",
       "2021-10-31    28762.328832\n",
       "2021-11-30    31843.543754\n",
       "2021-12-31    43295.361019\n",
       "Freq: M, Name: operating_profit, dtype: float64"
      ]
     },
     "execution_count": 19,
     "metadata": {},
     "output_type": "execute_result"
    }
   ],
   "source": [
    "# what is the mean operating profit\n",
    "df.resample('M').operating_profit.mean()"
   ]
  },
  {
   "cell_type": "code",
   "execution_count": 20,
   "id": "32724940",
   "metadata": {},
   "outputs": [
    {
     "data": {
      "text/plain": [
       "<AxesSubplot:xlabel='invoice_date'>"
      ]
     },
     "execution_count": 20,
     "metadata": {},
     "output_type": "execute_result"
    },
    {
     "data": {
      "image/png": "[encoded data removed]",
      "text/plain": [
       "<Figure size 432x288 with 1 Axes>"
      ]
     },
     "metadata": {
      "needs_background": "light"
     },
     "output_type": "display_data"
    }
   ],
   "source": [
    "# resample by month and plot average operating operating profit \n",
    "df.resample('M').operating_profit.mean().plot()"
   ]
  },
  {
   "cell_type": "code",
   "execution_count": 21,
   "id": "0529318b",
   "metadata": {},
   "outputs": [
    {
     "data": {
      "text/plain": [
       "Timestamp('2021-03-31 00:00:00', freq='M')"
      ]
     },
     "execution_count": 21,
     "metadata": {},
     "output_type": "execute_result"
    }
   ],
   "source": [
    "# date of min profit \n",
    "df.resample('M').operating_profit.mean().idxmin()"
   ]
  },
  {
   "cell_type": "code",
   "execution_count": 22,
   "id": "9c52c3ce",
   "metadata": {},
   "outputs": [
    {
     "data": {
      "text/plain": [
       "Timestamp('2020-09-30 00:00:00', freq='M')"
      ]
     },
     "execution_count": 22,
     "metadata": {},
     "output_type": "execute_result"
    }
   ],
   "source": [
    "# month and year with max operating profit \n",
    "df.resample('M').operating_profit.mean().idxmax()"
   ]
  },
  {
   "cell_type": "code",
   "execution_count": 23,
   "id": "789ccb37",
   "metadata": {},
   "outputs": [],
   "source": [
    "# calculate range of operating profit by month\n",
    "minmax_df = df.resample('M').operating_profit.agg(['min','max'])"
   ]
  },
  {
   "cell_type": "code",
   "execution_count": 24,
   "id": "d65e49ee",
   "metadata": {},
   "outputs": [
    {
     "data": {
      "text/html": [
       "<div>\n",
       "<style scoped>\n",
       "    .dataframe tbody tr th:only-of-type {\n",
       "        vertical-align: middle;\n",
       "    }\n",
       "\n",
       "    .dataframe tbody tr th {\n",
       "        vertical-align: top;\n",
       "    }\n",
       "\n",
       "    .dataframe thead th {\n",
       "        text-align: right;\n",
       "    }\n",
       "</style>\n",
       "<table border=\"1\" class=\"dataframe\">\n",
       "  <thead>\n",
       "    <tr style=\"text-align: right;\">\n",
       "      <th></th>\n",
       "      <th>min</th>\n",
       "      <th>max</th>\n",
       "      <th>change</th>\n",
       "    </tr>\n",
       "    <tr>\n",
       "      <th>invoice_date</th>\n",
       "      <th></th>\n",
       "      <th></th>\n",
       "      <th></th>\n",
       "    </tr>\n",
       "  </thead>\n",
       "  <tbody>\n",
       "    <tr>\n",
       "      <th>2020-01-31</th>\n",
       "      <td>998.20</td>\n",
       "      <td>312500.0</td>\n",
       "      <td>311501.80</td>\n",
       "    </tr>\n",
       "    <tr>\n",
       "      <th>2020-02-29</th>\n",
       "      <td>1587.60</td>\n",
       "      <td>366000.0</td>\n",
       "      <td>364412.40</td>\n",
       "    </tr>\n",
       "    <tr>\n",
       "      <th>2020-03-31</th>\n",
       "      <td>848.64</td>\n",
       "      <td>382500.0</td>\n",
       "      <td>381651.36</td>\n",
       "    </tr>\n",
       "    <tr>\n",
       "      <th>2020-04-30</th>\n",
       "      <td>1432.60</td>\n",
       "      <td>373750.0</td>\n",
       "      <td>372317.40</td>\n",
       "    </tr>\n",
       "    <tr>\n",
       "      <th>2020-05-31</th>\n",
       "      <td>1451.97</td>\n",
       "      <td>390000.0</td>\n",
       "      <td>388548.03</td>\n",
       "    </tr>\n",
       "    <tr>\n",
       "      <th>2020-06-30</th>\n",
       "      <td>1185.60</td>\n",
       "      <td>168750.0</td>\n",
       "      <td>167564.40</td>\n",
       "    </tr>\n",
       "    <tr>\n",
       "      <th>2020-07-31</th>\n",
       "      <td>1478.40</td>\n",
       "      <td>198000.0</td>\n",
       "      <td>196521.60</td>\n",
       "    </tr>\n",
       "    <tr>\n",
       "      <th>2020-08-31</th>\n",
       "      <td>1736.00</td>\n",
       "      <td>250000.0</td>\n",
       "      <td>248264.00</td>\n",
       "    </tr>\n",
       "    <tr>\n",
       "      <th>2020-09-30</th>\n",
       "      <td>2382.80</td>\n",
       "      <td>341250.0</td>\n",
       "      <td>338867.20</td>\n",
       "    </tr>\n",
       "    <tr>\n",
       "      <th>2020-10-31</th>\n",
       "      <td>253.80</td>\n",
       "      <td>297500.0</td>\n",
       "      <td>297246.20</td>\n",
       "    </tr>\n",
       "    <tr>\n",
       "      <th>2020-11-30</th>\n",
       "      <td>112.00</td>\n",
       "      <td>158125.0</td>\n",
       "      <td>158013.00</td>\n",
       "    </tr>\n",
       "    <tr>\n",
       "      <th>2020-12-31</th>\n",
       "      <td>309.12</td>\n",
       "      <td>216000.0</td>\n",
       "      <td>215690.88</td>\n",
       "    </tr>\n",
       "    <tr>\n",
       "      <th>2021-01-31</th>\n",
       "      <td>255.75</td>\n",
       "      <td>281250.0</td>\n",
       "      <td>280994.25</td>\n",
       "    </tr>\n",
       "    <tr>\n",
       "      <th>2021-02-28</th>\n",
       "      <td>144.00</td>\n",
       "      <td>204750.0</td>\n",
       "      <td>204606.00</td>\n",
       "    </tr>\n",
       "    <tr>\n",
       "      <th>2021-03-31</th>\n",
       "      <td>75.20</td>\n",
       "      <td>176175.0</td>\n",
       "      <td>176099.80</td>\n",
       "    </tr>\n",
       "    <tr>\n",
       "      <th>2021-04-30</th>\n",
       "      <td>135.30</td>\n",
       "      <td>272250.0</td>\n",
       "      <td>272114.70</td>\n",
       "    </tr>\n",
       "    <tr>\n",
       "      <th>2021-05-31</th>\n",
       "      <td>203.00</td>\n",
       "      <td>292500.0</td>\n",
       "      <td>292297.00</td>\n",
       "    </tr>\n",
       "    <tr>\n",
       "      <th>2021-06-30</th>\n",
       "      <td>0.00</td>\n",
       "      <td>371250.0</td>\n",
       "      <td>371250.00</td>\n",
       "    </tr>\n",
       "    <tr>\n",
       "      <th>2021-07-31</th>\n",
       "      <td>107.59</td>\n",
       "      <td>341250.0</td>\n",
       "      <td>341142.41</td>\n",
       "    </tr>\n",
       "    <tr>\n",
       "      <th>2021-08-31</th>\n",
       "      <td>503.44</td>\n",
       "      <td>329062.5</td>\n",
       "      <td>328559.06</td>\n",
       "    </tr>\n",
       "    <tr>\n",
       "      <th>2021-09-30</th>\n",
       "      <td>308.70</td>\n",
       "      <td>312000.0</td>\n",
       "      <td>311691.30</td>\n",
       "    </tr>\n",
       "    <tr>\n",
       "      <th>2021-10-31</th>\n",
       "      <td>166.40</td>\n",
       "      <td>341250.0</td>\n",
       "      <td>341083.60</td>\n",
       "    </tr>\n",
       "    <tr>\n",
       "      <th>2021-11-30</th>\n",
       "      <td>112.64</td>\n",
       "      <td>309375.0</td>\n",
       "      <td>309262.36</td>\n",
       "    </tr>\n",
       "    <tr>\n",
       "      <th>2021-12-31</th>\n",
       "      <td>425.70</td>\n",
       "      <td>338625.0</td>\n",
       "      <td>338199.30</td>\n",
       "    </tr>\n",
       "  </tbody>\n",
       "</table>\n",
       "</div>"
      ],
      "text/plain": [
       "                  min       max     change\n",
       "invoice_date                              \n",
       "2020-01-31     998.20  312500.0  311501.80\n",
       "2020-02-29    1587.60  366000.0  364412.40\n",
       "2020-03-31     848.64  382500.0  381651.36\n",
       "2020-04-30    1432.60  373750.0  372317.40\n",
       "2020-05-31    1451.97  390000.0  388548.03\n",
       "2020-06-30    1185.60  168750.0  167564.40\n",
       "2020-07-31    1478.40  198000.0  196521.60\n",
       "2020-08-31    1736.00  250000.0  248264.00\n",
       "2020-09-30    2382.80  341250.0  338867.20\n",
       "2020-10-31     253.80  297500.0  297246.20\n",
       "2020-11-30     112.00  158125.0  158013.00\n",
       "2020-12-31     309.12  216000.0  215690.88\n",
       "2021-01-31     255.75  281250.0  280994.25\n",
       "2021-02-28     144.00  204750.0  204606.00\n",
       "2021-03-31      75.20  176175.0  176099.80\n",
       "2021-04-30     135.30  272250.0  272114.70\n",
       "2021-05-31     203.00  292500.0  292297.00\n",
       "2021-06-30       0.00  371250.0  371250.00\n",
       "2021-07-31     107.59  341250.0  341142.41\n",
       "2021-08-31     503.44  329062.5  328559.06\n",
       "2021-09-30     308.70  312000.0  311691.30\n",
       "2021-10-31     166.40  341250.0  341083.60\n",
       "2021-11-30     112.64  309375.0  309262.36\n",
       "2021-12-31     425.70  338625.0  338199.30"
      ]
     },
     "execution_count": 24,
     "metadata": {},
     "output_type": "execute_result"
    }
   ],
   "source": [
    "# range of operating margin for each month \n",
    "minmax_df['change'] = minmax_df['max'] -minmax_df['min']\n",
    "minmax_df"
   ]
  },
  {
   "cell_type": "markdown",
   "id": "7270bf35",
   "metadata": {},
   "source": [
    "## Questions for Project \n"
   ]
  },
  {
   "cell_type": "markdown",
   "id": "522c043e",
   "metadata": {},
   "source": [
    "### Which month and year has the largest range? "
   ]
  },
  {
   "cell_type": "code",
   "execution_count": 28,
   "id": "9292866e",
   "metadata": {},
   "outputs": [
    {
     "data": {
      "text/plain": [
       "<AxesSubplot:xlabel='invoice_date'>"
      ]
     },
     "execution_count": 28,
     "metadata": {},
     "output_type": "execute_result"
    },
    {
     "data": {
      "image/png": "[encoded data removed]",
      "text/plain": [
       "<Figure size 432x288 with 1 Axes>"
      ]
     },
     "metadata": {
      "needs_background": "light"
     },
     "output_type": "display_data"
    }
   ],
   "source": [
    "# visualization of range of operating profit each month \n",
    "minmax_df.plot()"
   ]
  },
  {
   "cell_type": "code",
   "execution_count": 27,
   "id": "fe0e6292",
   "metadata": {
    "scrolled": true
   },
   "outputs": [
    {
     "data": {
      "text/plain": [
       "Timestamp('2020-11-30 00:00:00', freq='M')"
      ]
     },
     "execution_count": 27,
     "metadata": {},
     "output_type": "execute_result"
    }
   ],
   "source": [
    "# month and year with lowest operating profit range\n",
    "minmax_df.change.idxmin()"
   ]
  },
  {
   "cell_type": "code",
   "execution_count": 38,
   "id": "ed9b08bd",
   "metadata": {},
   "outputs": [
    {
     "data": {
      "text/plain": [
       "Timestamp('2020-05-31 00:00:00', freq='M')"
      ]
     },
     "execution_count": 38,
     "metadata": {},
     "output_type": "execute_result"
    }
   ],
   "source": [
    "# month and year with highest operating profit range\n",
    "minmax_df.change.idxmax()"
   ]
  },
  {
   "cell_type": "markdown",
   "id": "f398cc31",
   "metadata": {},
   "source": [
    "### Which month and year has the highest average operating profit? \n"
   ]
  },
  {
   "cell_type": "code",
   "execution_count": 39,
   "id": "f6bec328",
   "metadata": {},
   "outputs": [
    {
     "data": {
      "text/plain": [
       "<AxesSubplot:xlabel='invoice_date'>"
      ]
     },
     "execution_count": 39,
     "metadata": {},
     "output_type": "execute_result"
    },
    {
     "data": {
      "image/png": "[encoded data removed]",
      "text/plain": [
       "<Figure size 432x288 with 1 Axes>"
      ]
     },
     "metadata": {
      "needs_background": "light"
     },
     "output_type": "display_data"
    }
   ],
   "source": [
    "# visualization of month and year average operating profit \n",
    "df.resample('M').operating_profit.mean().plot()"
   ]
  },
  {
   "cell_type": "code",
   "execution_count": 40,
   "id": "c0c25377",
   "metadata": {},
   "outputs": [
    {
     "data": {
      "text/plain": [
       "Timestamp('2020-09-30 00:00:00', freq='M')"
      ]
     },
     "execution_count": 40,
     "metadata": {},
     "output_type": "execute_result"
    }
   ],
   "source": [
    "# month and year with max operating profit \n",
    "df.resample('M').operating_profit.mean().idxmax()"
   ]
  },
  {
   "cell_type": "markdown",
   "id": "c8a3e2e3",
   "metadata": {},
   "source": [
    "### Which month and year  has the lowest average operating profit?"
   ]
  },
  {
   "cell_type": "code",
   "execution_count": 41,
   "id": "b50736b8",
   "metadata": {},
   "outputs": [
    {
     "data": {
      "text/plain": [
       "<AxesSubplot:xlabel='invoice_date'>"
      ]
     },
     "execution_count": 41,
     "metadata": {},
     "output_type": "execute_result"
    },
    {
     "data": {
      "image/png": "[encoded data removed]",
      "text/plain": [
       "<Figure size 432x288 with 1 Axes>"
      ]
     },
     "metadata": {
      "needs_background": "light"
     },
     "output_type": "display_data"
    }
   ],
   "source": [
    "# visualization of month and year average operating profit \n",
    "df.resample('M').operating_profit.mean().plot()"
   ]
  },
  {
   "cell_type": "code",
   "execution_count": 42,
   "id": "74d967f5",
   "metadata": {},
   "outputs": [
    {
     "data": {
      "text/plain": [
       "Timestamp('2021-03-31 00:00:00', freq='M')"
      ]
     },
     "execution_count": 42,
     "metadata": {},
     "output_type": "execute_result"
    }
   ],
   "source": [
    "# month and year with lowest operating profit \n",
    "df.resample('M').operating_profit.mean().idxmin()"
   ]
  },
  {
   "cell_type": "markdown",
   "id": "ce4527bc",
   "metadata": {},
   "source": [
    "### Which month and year has the highest overall operating profit?\n"
   ]
  },
  {
   "cell_type": "code",
   "execution_count": 31,
   "id": "2e10a56b",
   "metadata": {},
   "outputs": [
    {
     "data": {
      "text/plain": [
       "<AxesSubplot:xlabel='invoice_date'>"
      ]
     },
     "execution_count": 31,
     "metadata": {},
     "output_type": "execute_result"
    },
    {
     "data": {
      "image/png": "[encoded data removed]",
      "text/plain": [
       "<Figure size 432x288 with 1 Axes>"
      ]
     },
     "metadata": {
      "needs_background": "light"
     },
     "output_type": "display_data"
    }
   ],
   "source": [
    "# visualize total operating profit in each month \n",
    "df.resample('M').operating_profit.sum().plot()"
   ]
  },
  {
   "cell_type": "code",
   "execution_count": 46,
   "id": "1359a803",
   "metadata": {},
   "outputs": [
    {
     "data": {
      "text/plain": [
       "Timestamp('2021-07-31 00:00:00', freq='M')"
      ]
     },
     "execution_count": 46,
     "metadata": {},
     "output_type": "execute_result"
    }
   ],
   "source": [
    "# month and year with the highest total operating profit\n",
    "df.resample('M').operating_profit.sum().idxmax()"
   ]
  },
  {
   "cell_type": "markdown",
   "id": "be011677",
   "metadata": {},
   "source": [
    "### Which month and year has the lowest overall operating profit?\n"
   ]
  },
  {
   "cell_type": "code",
   "execution_count": 44,
   "id": "3f1b24a8",
   "metadata": {},
   "outputs": [
    {
     "data": {
      "text/plain": [
       "<AxesSubplot:xlabel='invoice_date'>"
      ]
     },
     "execution_count": 44,
     "metadata": {},
     "output_type": "execute_result"
    },
    {
     "data": {
      "image/png": "[encoded data removed]",
      "text/plain": [
       "<Figure size 432x288 with 1 Axes>"
      ]
     },
     "metadata": {
      "needs_background": "light"
     },
     "output_type": "display_data"
    }
   ],
   "source": [
    "# visualize total operating profit in each month \n",
    "df.resample('M').operating_profit.sum().plot()"
   ]
  },
  {
   "cell_type": "code",
   "execution_count": 45,
   "id": "4357e4f2",
   "metadata": {},
   "outputs": [
    {
     "data": {
      "text/plain": [
       "Timestamp('2020-06-30 00:00:00', freq='M')"
      ]
     },
     "execution_count": 45,
     "metadata": {},
     "output_type": "execute_result"
    }
   ],
   "source": [
    "# month and year with the lowest total operating profit\n",
    "df.resample('M').operating_profit.sum().idxmin()"
   ]
  },
  {
   "cell_type": "markdown",
   "id": "f2fd19bd",
   "metadata": {},
   "source": [
    "## Which month has the lowest overall operating profit?"
   ]
  },
  {
   "cell_type": "code",
   "execution_count": 52,
   "id": "af4c9dfb",
   "metadata": {},
   "outputs": [
    {
     "data": {
      "text/plain": [
       "month\n",
       "April        27559237.31\n",
       "August       34451440.30\n",
       "December     31590202.03\n",
       "February     21392736.70\n",
       "January      25141934.51\n",
       "July         34054898.59\n",
       "June         26714715.92\n",
       "March        20439788.00\n",
       "May          29946255.33\n",
       "November     24755521.43\n",
       "October      25078444.60\n",
       "September    31009586.73\n",
       "Name: operating_profit, dtype: float64"
      ]
     },
     "execution_count": 52,
     "metadata": {},
     "output_type": "execute_result"
    }
   ],
   "source": [
    "# list of months and their overall operating profit\n",
    "df.groupby('month').operating_profit.sum()"
   ]
  },
  {
   "cell_type": "code",
   "execution_count": 53,
   "id": "f484439a",
   "metadata": {},
   "outputs": [
    {
     "data": {
      "text/plain": [
       "<AxesSubplot:xlabel='month'>"
      ]
     },
     "execution_count": 53,
     "metadata": {},
     "output_type": "execute_result"
    },
    {
     "data": {
      "image/png": "[encoded data removed]",
      "text/plain": [
       "<Figure size 432x288 with 1 Axes>"
      ]
     },
     "metadata": {
      "needs_background": "light"
     },
     "output_type": "display_data"
    }
   ],
   "source": [
    "# visualization of overall profit by month \n",
    "df.groupby('month').operating_profit.sum().plot()"
   ]
  },
  {
   "cell_type": "code",
   "execution_count": 55,
   "id": "50b3e9ce",
   "metadata": {},
   "outputs": [
    {
     "data": {
      "text/plain": [
       "'March'"
      ]
     },
     "execution_count": 55,
     "metadata": {},
     "output_type": "execute_result"
    }
   ],
   "source": [
    "# month with lowest overall profit by month \n",
    "df.groupby('month').operating_profit.sum().idxmin()"
   ]
  },
  {
   "cell_type": "code",
   "execution_count": 57,
   "id": "b8927fb8",
   "metadata": {},
   "outputs": [
    {
     "data": {
      "text/plain": [
       "20439788.0"
      ]
     },
     "execution_count": 57,
     "metadata": {},
     "output_type": "execute_result"
    }
   ],
   "source": [
    "# lowest overall operating profit value \n",
    "df.groupby('month').operating_profit.sum().min()"
   ]
  },
  {
   "cell_type": "markdown",
   "id": "7252860c",
   "metadata": {},
   "source": [
    "## Which month has the highest overall operating profit? "
   ]
  },
  {
   "cell_type": "code",
   "execution_count": 56,
   "id": "c387145d",
   "metadata": {},
   "outputs": [
    {
     "data": {
      "text/plain": [
       "'August'"
      ]
     },
     "execution_count": 56,
     "metadata": {},
     "output_type": "execute_result"
    }
   ],
   "source": [
    "# month with highest overall profit by month \n",
    "df.groupby('month').operating_profit.sum().idxmax()"
   ]
  },
  {
   "cell_type": "code",
   "execution_count": 59,
   "id": "5f98a594",
   "metadata": {},
   "outputs": [
    {
     "data": {
      "text/plain": [
       "34451440.300000004"
      ]
     },
     "execution_count": 59,
     "metadata": {},
     "output_type": "execute_result"
    }
   ],
   "source": [
    "# highest overall operating profit value \n",
    "df.groupby('month').operating_profit.sum().max()"
   ]
  },
  {
   "cell_type": "markdown",
   "id": "a4219e13",
   "metadata": {},
   "source": [
    "## Modeling "
   ]
  },
  {
   "cell_type": "markdown",
   "id": "cc0a448f",
   "metadata": {},
   "source": [
    "### What is next years projection for the max operating profit?  "
   ]
  },
  {
   "cell_type": "code",
   "execution_count": null,
   "id": "aa48f132",
   "metadata": {},
   "outputs": [],
   "source": []
  },
  {
   "cell_type": "code",
   "execution_count": null,
   "id": "6256eaba",
   "metadata": {},
   "outputs": [],
   "source": []
  },
  {
   "cell_type": "code",
   "execution_count": null,
   "id": "aa3a9709",
   "metadata": {},
   "outputs": [],
   "source": []
  },
  {
   "cell_type": "code",
   "execution_count": null,
   "id": "88c11efb",
   "metadata": {},
   "outputs": [],
   "source": []
  },
  {
   "cell_type": "code",
   "execution_count": null,
   "id": "ba5b95af",
   "metadata": {},
   "outputs": [],
   "source": []
  },
  {
   "cell_type": "code",
   "execution_count": null,
   "id": "e7271a96",
   "metadata": {},
   "outputs": [],
   "source": []
  },
  {
   "cell_type": "code",
   "execution_count": null,
   "id": "6b2ad7b7",
   "metadata": {},
   "outputs": [],
   "source": []
  },
  {
   "cell_type": "code",
   "execution_count": null,
   "id": "495a25a4",
   "metadata": {},
   "outputs": [],
   "source": []
  },
  {
   "cell_type": "code",
   "execution_count": null,
   "id": "3baba427",
   "metadata": {},
   "outputs": [],
   "source": []
  },
  {
   "cell_type": "markdown",
   "id": "3e10de48",
   "metadata": {},
   "source": [
    "# Conclusion\n",
    "\n",
    "\n",
    "## Next Steps \n",
    "- Which region has the highest operating profit?\n",
    "- Which region has the min opearting profit? \n",
    "\n"
   ]
  },
  {
   "cell_type": "code",
   "execution_count": null,
   "id": "c71c80fb",
   "metadata": {},
   "outputs": [],
   "source": []
  }
 ],
 "metadata": {
  "kernelspec": {
   "display_name": "Python 3 (ipykernel)",
   "language": "python",
   "name": "python3"
  },
  "language_info": {
   "codemirror_mode": {
    "name": "ipython",
    "version": 3
   },
   "file_extension": ".py",
   "mimetype": "text/x-python",
   "name": "python",
   "nbconvert_exporter": "python",
   "pygments_lexer": "ipython3",
   "version": "3.9.12"
  }
 },
 "nbformat": 4,
 "nbformat_minor": 5
}
